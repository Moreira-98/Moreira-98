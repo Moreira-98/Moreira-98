{
  "nbformat": 4,
  "nbformat_minor": 0,
  "metadata": {
    "colab": {
      "provenance": [],
      "include_colab_link": true
    },
    "kernelspec": {
      "name": "python3",
      "display_name": "Python 3"
    },
    "language_info": {
      "name": "python"
    },
    "widgets": {
      "application/vnd.jupyter.widget-state+json": {
        "d43b1b1d4dd34a1aa7c60ae49eea487e": {
          "model_module": "@jupyter-widgets/controls",
          "model_name": "IntSliderModel",
          "model_module_version": "1.5.0",
          "state": {
            "_dom_classes": [],
            "_model_module": "@jupyter-widgets/controls",
            "_model_module_version": "1.5.0",
            "_model_name": "IntSliderModel",
            "_view_count": null,
            "_view_module": "@jupyter-widgets/controls",
            "_view_module_version": "1.5.0",
            "_view_name": "IntSliderView",
            "continuous_update": true,
            "description": "",
            "description_tooltip": null,
            "disabled": false,
            "layout": "IPY_MODEL_a68f7f44e8914c98a0c6aaefc8d8bb29",
            "max": 1000,
            "min": 0,
            "orientation": "horizontal",
            "readout": true,
            "readout_format": "d",
            "step": 1,
            "style": "IPY_MODEL_1df1cec9a8c5446e868e710f61782128",
            "value": 1000
          }
        },
        "a68f7f44e8914c98a0c6aaefc8d8bb29": {
          "model_module": "@jupyter-widgets/base",
          "model_name": "LayoutModel",
          "model_module_version": "1.2.0",
          "state": {
            "_model_module": "@jupyter-widgets/base",
            "_model_module_version": "1.2.0",
            "_model_name": "LayoutModel",
            "_view_count": null,
            "_view_module": "@jupyter-widgets/base",
            "_view_module_version": "1.2.0",
            "_view_name": "LayoutView",
            "align_content": null,
            "align_items": null,
            "align_self": null,
            "border": null,
            "bottom": null,
            "display": null,
            "flex": null,
            "flex_flow": null,
            "grid_area": null,
            "grid_auto_columns": null,
            "grid_auto_flow": null,
            "grid_auto_rows": null,
            "grid_column": null,
            "grid_gap": null,
            "grid_row": null,
            "grid_template_areas": null,
            "grid_template_columns": null,
            "grid_template_rows": null,
            "height": null,
            "justify_content": null,
            "justify_items": null,
            "left": null,
            "margin": null,
            "max_height": null,
            "max_width": null,
            "min_height": null,
            "min_width": null,
            "object_fit": null,
            "object_position": null,
            "order": null,
            "overflow": null,
            "overflow_x": null,
            "overflow_y": null,
            "padding": null,
            "right": null,
            "top": null,
            "visibility": null,
            "width": null
          }
        },
        "1df1cec9a8c5446e868e710f61782128": {
          "model_module": "@jupyter-widgets/controls",
          "model_name": "SliderStyleModel",
          "model_module_version": "1.5.0",
          "state": {
            "_model_module": "@jupyter-widgets/controls",
            "_model_module_version": "1.5.0",
            "_model_name": "SliderStyleModel",
            "_view_count": null,
            "_view_module": "@jupyter-widgets/base",
            "_view_module_version": "1.2.0",
            "_view_name": "StyleView",
            "description_width": "",
            "handle_color": null
          }
        }
      }
    }
  },
  "cells": [
    {
      "cell_type": "markdown",
      "metadata": {
        "id": "view-in-github",
        "colab_type": "text"
      },
      "source": [
        "<a href=\"https://colab.research.google.com/github/Moreira-98/Moreira-98/blob/main/Tarefa_01.ipynb\" target=\"_parent\"><img src=\"https://colab.research.google.com/assets/colab-badge.svg\" alt=\"Open In Colab\"/></a>"
      ]
    },
    {
      "cell_type": "markdown",
      "source": [
        "__Nome:__ Lucas Moreira Alves Rodrigues | __RA:__ 1840482122014 <br>\n",
        "__Curso:__ Análise e Desenvolvimento de Sistemas | __Periodo:__ Noturno\n",
        "\n",
        "---\n",
        "\n",
        "# Explorar a plataforma do Google Colab\n",
        "\n",
        "Intruções: <br>\n",
        "\n",
        "1. Se logar no Google Colab: [clique aqui](https://colab.research.google.com) <br>\n",
        "2. Criar um notebook <br>\n",
        "3. Executar o tutorial da plataforma: <br>\n",
        "      3.1 Visão geral do Colaboratory; <br>\n",
        "      3.2 Guia sobre Markdown; <br>\n",
        "      3.3 Importar bibliotecas e instalar dependências; <br>\n",
        "      3.4 Salvar e carregar notebooks no GitHub; <br>\n",
        "      3.5 Formulários interativos; <br>\n",
        "      3.6 Widgets interativos. <br>\n",
        "\n",
        "4. Reproduzir no notebook a apresentação do Felipe Deschamps sobre IA.\n",
        "[clique aqui](https://youtu.be/JyGGMyR3x5I?si=NoFAIfItRvyulnnu) <br>\n",
        "5. Subir o print de tela como evidência do trabalho.\n",
        "\n"
      ],
      "metadata": {
        "id": "KHouz-KoabYc"
      }
    },
    {
      "cell_type": "markdown",
      "source": [
        "## 1. Como trabalhar com Notebook no Colab?"
      ],
      "metadata": {
        "id": "pBmHg5kPdoEr"
      }
    },
    {
      "cell_type": "markdown",
      "source": [
        "### 1.1 Code Cells"
      ],
      "metadata": {
        "id": "tP9FiG2feZSO"
      }
    },
    {
      "cell_type": "code",
      "source": [
        "a = 10\n",
        "\n",
        "a"
      ],
      "metadata": {
        "id": "u0kTpupZd5Br"
      },
      "execution_count": null,
      "outputs": []
    },
    {
      "cell_type": "markdown",
      "source": [
        "### 1.2 Text Cells"
      ],
      "metadata": {
        "id": "UD_XxQP7efcY"
      }
    },
    {
      "cell_type": "markdown",
      "source": [
        "Utilizando formulas matematicas com $ sqrt: <br>\n",
        "\n",
        "$\\sqrt{3x-1}+(1+x)^2$"
      ],
      "metadata": {
        "id": "vu3wa3iIexyo"
      }
    },
    {
      "cell_type": "markdown",
      "source": [
        "### 1.3 Trabalhando com Python 🐍"
      ],
      "metadata": {
        "id": "wZMNoilsfTil"
      }
    },
    {
      "cell_type": "code",
      "source": [
        "import time\n",
        "\n",
        "print(\"Dormindo....\")\n",
        "\n",
        "time.sleep(30) # conta até 30 e me acorda!\n",
        "\n",
        "print(\"Bora acorda! Aula de IA\")"
      ],
      "metadata": {
        "id": "EOarGezKe_Qd"
      },
      "execution_count": null,
      "outputs": []
    },
    {
      "cell_type": "markdown",
      "source": [
        "### 1.4 System aliases"
      ],
      "metadata": {
        "id": "LEX7xP7ChyIL"
      }
    },
    {
      "cell_type": "code",
      "source": [
        "!ls /bin"
      ],
      "metadata": {
        "id": "skTdKk7Bh_hM"
      },
      "execution_count": null,
      "outputs": []
    },
    {
      "cell_type": "markdown",
      "source": [
        "__O que o código a seguir faz?__ <br>\n",
        "\n",
        "1. Verifica se a variável `message` está definida:\n",
        "- Se não estiver, a função retorna um código de erro e nada é executado.\n",
        "\n",
        "<br>\n",
        "\n",
        "2. Se a variável estiver definida:\n",
        "- A função concatena a variável `message` consigo mesma quatro vezes<br>\n",
        "- A função imprime a string concatenada no console, em duas linhas."
      ],
      "metadata": {
        "id": "Ev_xxpF3BEcd"
      }
    },
    {
      "cell_type": "code",
      "source": [
        "# In https://github.com/ipython/ipython/pull/10545, single quote strings are ignored\n",
        "message = 'Aluno ADS!'\n",
        "foo = !unset message && echo -e '{message}\\n{message}\\n'$message\"\\n$message\"\n",
        "foo"
      ],
      "metadata": {
        "id": "2783aMDMibxp"
      },
      "execution_count": null,
      "outputs": []
    },
    {
      "cell_type": "markdown",
      "source": [
        "### 1.5 Magics"
      ],
      "metadata": {
        "id": "AuyusImFCTOe"
      }
    },
    {
      "cell_type": "code",
      "source": [
        "%%html\n",
        "<marquee style='width: 50%; color: dark'><b>Sou lindo!</b></marquee>\n"
      ],
      "metadata": {
        "id": "ZN_cD_YiC3i2"
      },
      "execution_count": null,
      "outputs": []
    },
    {
      "cell_type": "code",
      "source": [
        "%%html\n",
        "<svg xmlns=\"http://www.w3.org/2000/svg\" viewBox=\"0 0 450 400\" width=\"200\" height=\"200\">\n",
        "  <rect x=\"80\" y=\"60\" width=\"250\" height=\"250\" rx=\"20\" style=\"fill:red; stroke:black; fill-opacity:0.7\" />\n",
        "  <rect x=\"180\" y=\"110\" width=\"250\" height=\"250\" rx=\"40\" style=\"fill:blue; stroke:black; fill-opacity:0.5;\" />\n",
        "</svg>"
      ],
      "metadata": {
        "id": "6kmLYk4EDiRe"
      },
      "execution_count": null,
      "outputs": []
    },
    {
      "cell_type": "markdown",
      "source": [
        "### 1.6 Rich, interactive outputs"
      ],
      "metadata": {
        "id": "ZSRXjkdmD8hD"
      }
    },
    {
      "cell_type": "code",
      "source": [
        "import numpy as np\n",
        "from matplotlib import pyplot as plt\n",
        "\n",
        "ys = 200 + np.random.randn(100)\n",
        "x = [x for x in range(len(ys))]\n",
        "\n",
        "plt.plot(x, ys, '-')\n",
        "plt.fill_between(x, ys, 195, where=(ys > 195), facecolor='g', alpha=0.6)\n",
        "\n",
        "plt.title(\"Fills and Alpha Example\")\n",
        "plt.show()"
      ],
      "metadata": {
        "colab": {
          "base_uri": "https://localhost:8080/",
          "height": 452
        },
        "id": "VmBebnoFFFZU",
        "outputId": "aa443c57-54cd-49d6-b4a5-3317e4a58164"
      },
      "execution_count": null,
      "outputs": [
        {
          "output_type": "display_data",
          "data": {
            "text/plain": [
              "<Figure size 640x480 with 1 Axes>"
            ],
            "image/png": "[encoded data removed]"
          },
          "metadata": {}
        }
      ]
    },
    {
      "cell_type": "markdown",
      "source": [
        "__O que o código fez?__ <br>\n",
        "\n",
        "1. Importando os dados <br>\n",
        "  - `import numpy as np`: Importa a biblioteca `numpy` e a renomeia para `np` para facilitar o uso. O `numpy` é usado para operações matemáticas e manipulação de arrays.\n",
        "  - `from matplotlib import pyplot as plt`: Importa o módulo `pyplot` da biblioteca `matplotlib` e o renomeia para `plt` para facilitar o uso. O `matplotlib` é usado para criar gráficos e visualizações.\n",
        "\n",
        "2. Gerando dados <br>\n",
        "  - `ys = 200 + np.random.randn(100)`: Cria um array `ys` com 100 elementos. Cada elemento é gerado aleatoriamente a partir de uma distribuição normal com média 200 e desvio padrão 1.\n",
        "\n",
        "3. Criando o eixo x: <br>\n",
        "  - `x = [x for x in range(len(ys))]`: Cria um array `x` com o mesmo tamanho do array `ys`. Cada elemento de `x` representa o índice correspondente no array `ys`.\n",
        "\n",
        "4. Criando o gráfico:<br>\n",
        "  - `plt.plot(x, ys, '-')`: Cria um gráfico de linha com o eixo `x` sendo `x` e o eixo `y` sendo ys. O `'-'` define o estilo da linha como contínua.\n",
        "\n",
        "5. Preenchendo a área abaixo da linha: <br>\n",
        "  - `plt.fill_between(x, ys, 195, where=(ys > 195)`, `facecolor='g'`, `alpha=0.6)`: Preenche a área entre a linha `ys` e o valor horizontal 195.\n",
        "    - `where=(ys > 195)`: Esta parte define a condição para o preenchimento. Somente a área abaixo dos pontos em `ys` que são maiores que 195 será preenchida.\n",
        "    - `facecolor='g':` Define a cor do preenchimento como verde.\n",
        "    - `alpha=0.6`: Define a transparência do preenchimento como 0.6 (60% opaco).\n",
        "\n",
        "6. Configurando o gráfico: <br>\n",
        "  - `plt.title(\"Fills and Alpha Example\")`: Define o título do gráfico como \"Fills and Alpha Example\".\n",
        "\n",
        "7. Exibindo o gráfico:<br>\n",
        "  - `plt.show()`: Exibe o gráfico na tela.\n",
        "\n",
        "\n"
      ],
      "metadata": {
        "id": "rD-K3dezFpiK"
      }
    },
    {
      "cell_type": "markdown",
      "source": [
        "### 1.7 Gerando um gráfico de barras"
      ],
      "metadata": {
        "id": "C3ogdDtHKHTF"
      }
    },
    {
      "cell_type": "code",
      "source": [
        "fig, ax = plt.subplots(figsize=(5, 2.7), layout='constrained')\n",
        "categories = ['turnips', 'rutabaga', 'cucumber', 'pumpkins']\n",
        "\n",
        "ax.bar(categories, np.random.rand(len(categories)))"
      ],
      "metadata": {
        "colab": {
          "base_uri": "https://localhost:8080/",
          "height": 315
        },
        "id": "HZ7zNXHvKNyM",
        "outputId": "5e03978b-9d29-41a2-b311-315921938c56"
      },
      "execution_count": null,
      "outputs": [
        {
          "output_type": "execute_result",
          "data": {
            "text/plain": [
              "<BarContainer object of 4 artists>"
            ]
          },
          "metadata": {},
          "execution_count": 25
        },
        {
          "output_type": "display_data",
          "data": {
            "text/plain": [
              "<Figure size 500x270 with 1 Axes>"
            ],
            "image/png": "[encoded data removed]"
          },
          "metadata": {}
        }
      ]
    },
    {
      "cell_type": "markdown",
      "source": [
        "## 2. Guia Sobre Markdown <br>\n",
        "\n"
      ],
      "metadata": {
        "id": "hVT3Sq7RLc01"
      }
    },
    {
      "cell_type": "markdown",
      "source": [
        "### 2.1 Formatação Simples <br>\n",
        "\n",
        "1. __Negrito:__ <br>\n",
        "  - Para colocar uma palavra em negrito, basta adicionar dois asteriscos (**) no início e no final de uma palavra ou dois underlines (__) também no início e no final de uma palavra. Exemplo:<br>\n",
        "    - **negrito**\n",
        "    - __negrito2__\n",
        "\n",
        "2. __Itálico:__<br>\n",
        "  - Para colocar uma palavra em itálico, basta adicionar um asterisco (*) no início e no final de uma palavra, ou um sublinhado (_) também no início e no final. Exemplo:<br>\n",
        "    - *negrito*\n",
        "    - _negrito2_\n",
        "\n",
        "3. __Riscado:__ <br>\n",
        "  - Para adicionar um risco a uma palavra, basta colocar um til (~) no início e no final da palavra, dentro de uma frase. Exemplo:<br>\n",
        "    - ~riscado~\n",
        "\n",
        "4. __Titulos:__ <br>\n",
        "  - Para criar títulos de nível 1, 2 e 3, basta utilizar um jogo da velha (#) para títulos de nível 1, dois jogos da velha (##) para títulos de nível 2 e três jogos da velha (###) para títulos de nível 3. Exemplo:\n",
        "\n",
        "    # Titulo de nivel 1\n",
        "    ## Titulo de nivel 2\n",
        "    ### Titulo de nivel 3\n",
        "\n",
        "5. __Divisor:__ <br>\n",
        "  - Divisores são aquelas linhas que dividem uma página. Para criar uma, basta colocar três traços (---) ou três asteriscos (***). Exemplo:\n",
        "  ---\n",
        "  ***\n",
        "\n",
        "6. __Lista numerada:__ <br>\n",
        "  - Para criar uma lista numerada, basta inserir o número desejado seguido de um ponto (.) e automaticamente será gerada uma lista. Exemplo:\n",
        "  1.\n",
        "  2.\n",
        "  3.\n",
        "\n",
        "7. __Lista demarcada:__ <br>\n",
        "  - Para criar uma lista demarcada, basta inserir um traço (-) antes da palavra ou um asterisco (*) antes da palavra. Exemplo:\n",
        "    - Lista demarcada com traço\n",
        "    * LIsta demarcada com asterisco <br>\n",
        "\n",
        "    Caso deseje, antes do traço ou asterisco, podemos pressionar a tecla \"Tab\" para alterar o tipo de lista.\n",
        "\n",
        "8. __Lista de tarefas:__ <br>\n",
        "  - Outro tipo de lista bastante simples de criar é a de tarefas. Basta inserir um traço (-) e, em seguida, colocar abertura e fechamento de colchetes [] antes de escrever algum texto ou palavra. Exemplo:\n",
        "  - [] Pagar o agiota\n",
        "  - [x] Tarefa feita <br>\n",
        "\n",
        "  Obs: Ao abrir e fechar colchetes, não deve haver espaços dentro deles.\n",
        "\n",
        "9. __Quebra de linha:__\n",
        " - Para realizar uma quebra de linha utilizando a tag `<br>`, inserimos a tag no meio do texto ou no final, ficando a critério do usuário decidir onde deseja efetuar a quebra de linha. Exemplo:\n",
        "    - Esse texto teve um quebra de <br> linha bem no meio dele.\n",
        "    - Esse outro texto teve uma quebra de linha no final do texto.<br> Bem aqui"
      ],
      "metadata": {
        "id": "aGrPSPrpRoV0"
      }
    },
    {
      "cell_type": "markdown",
      "source": [
        "### 2.2 Inserindo imagens\n",
        "\n",
        "Para inserir uma imagem utilizando o Markdown, a estrutura básica é esta:\n",
        "- ![insira um nome](link da imagem ou caminho do arquivo)\n",
        "\n",
        "__Pontos importantes:__\n",
        "  1. O \"insira um nome\" será a palavra exibida caso a imagem apresente algum erro e não seja exibida.\n",
        "  2. Entre parênteses (aqui), podemos inserir um link da imagem que encontramos no Google ou de uma imagem salva no computador.\n",
        "  3. Para ficar algo bem legal o recomendado é colocar uma imagem não muito grande e no formato JPEG ou PNG.\n",
        "\n",
        "__Exemplo:__ <br>\n",
        "\n",
        "\n",
        "![Imagem do gatinho deu erro](https://cdn.dicionariopopular.com/imagens/imagem-de-perfil-gato.jpg) <br>\n",
        "\n"
      ],
      "metadata": {
        "id": "dLbPMYb9ZkdP"
      }
    },
    {
      "cell_type": "markdown",
      "source": [
        "### 2.3 Inserindo um link <br>"
      ],
      "metadata": {
        "id": "84Guen7eehG4"
      }
    },
    {
      "cell_type": "markdown",
      "source": [
        "Para inserir um link utilizando o Markdown, a estrutura básica é esta:\n",
        "\n",
        "[insira um nome](link do site) <br>\n",
        "\n",
        "__Pontos importantes:__\n",
        "1. O \"insira um nome\" será a palavra exibida para o usuário clicar.\n",
        "2. Entre parênteses (aqui), podemos inserir um link da página para a qual desejamos levar o usuário.\n",
        "\n",
        "__Exemplo:__ <br>\n",
        "[Clique aqui](https://www.youtube.com/watch?v=v6yBdqTey2E)\n",
        "\n",
        "\n"
      ],
      "metadata": {
        "id": "s07bZj78em4x"
      }
    },
    {
      "cell_type": "markdown",
      "source": [
        "### 2.4 Tabelas no Markdown <br>"
      ],
      "metadata": {
        "id": "8q4Nm2bvgsPi"
      }
    },
    {
      "cell_type": "markdown",
      "source": [
        "Para criar uma tabela no Markdown, precisamos seguir os seguintes passos: <br>\n",
        "\n",
        "1. Primeiro colocamos o titulo das colunas e vamos colocando barras ( | ) em pé. Exemplo:\n",
        "  - Texto1 | Texto2 | Texto3\n",
        "2. De baixo do nome colocamos tres traços (---) e uma barra em pé ( | ).  \n",
        "3. Depois colocamo as informações add as barras em pé.\n",
        "\n",
        "__Exemplo prático:__\n",
        "\n",
        "\n",
        "Nome | Idade | Cidade\n",
        "---|---|---|\n",
        "João | 20 | São Paulo\n",
        "Maria | 30 | Mauá\n",
        "Juninho | 11 | Suzano\n"
      ],
      "metadata": {
        "id": "ZI5YR6H8gw4a"
      }
    },
    {
      "cell_type": "markdown",
      "source": [
        "### 2.5 Trecho de Programas <br>"
      ],
      "metadata": {
        "id": "YlSTZXF6iQ8P"
      }
    },
    {
      "cell_type": "markdown",
      "source": [
        "Serve para destacar algum código de alguma linguagem de programação. Para fazer isso, utilizamos a crase (`). Colocamos uma no início do código e outra no final do código. Exemplo:\n",
        "\n",
        "`Hello Word`\n",
        "\n",
        "ou\n",
        "\n",
        "```python\n",
        "print(\"Qual é o seu nome?\")\n",
        "\n",
        "```\n",
        "\n",
        "Ou podemos utilizar três crases (```) no início de um código e depois mais três no final do código. Além disso, nas três primeiras crases, podemos colocar a linguagem de programação que estamos utilizando. Exemplo:\n",
        "\n",
        "```python\n",
        "\n",
        "a = 1\n",
        "b = 2\n",
        "\n",
        "print(a + b)\n",
        "\n",
        "```"
      ],
      "metadata": {
        "id": "doVozeQBiVtb"
      }
    },
    {
      "cell_type": "markdown",
      "source": [
        "### 2.6 Inserindo Emojis legais <br>"
      ],
      "metadata": {
        "id": "mOKsgPnvjyye"
      }
    },
    {
      "cell_type": "markdown",
      "source": [
        "No Google Colab, é bem mais fácil de inserir emojis. Basta colocar dois pontos (:) e escrever o nome de algum emoji em inglês. Caso você não saiba, pode utilizar o site [Emojipedia](https://emojipedia.org/) para descobrir o nome dos emojis. Exemplo:\n",
        "\n",
        "- Emoji de cobra: 🐍\n",
        "- Emogi de macaco: 🐒\n",
        "- Emoji de coração: 💗\n",
        "\n",
        "Outra coisa que recomendo e podemos utilizar como referência é o repositório da [ikatyang](https://github.com/ikatyang/emoji-cheat-sheet) no GitHub. Lá, ela tem uma tabela com vários emojis que podemos utilizar no Markdown.\n",
        "\n",
        "__Mas e se eu não estiver no Google Colab? Como faço para utilizar emojis?__ <br>\n",
        "Bom, segue a mesma estrutura, mas ao invés de colocar dois pontos (:), vamos colocar dois pontos no início. No meio, colocamos o nome do emoji em inglês e depois, no final, colocamos outros dois pontos."
      ],
      "metadata": {
        "id": "aPwgBDIuj5hK"
      }
    },
    {
      "cell_type": "markdown",
      "source": [
        "### Recomendação de guia de markdown. <br>\n",
        "\n",
        "Caso ainda tenha muitas dúvidas, recomendo este Guia de Markdown: [clique aqui](https://github.com/gustavoguanabara/git-github/blob/02b8a3c3ab39a8bb3da5a1d36694b74777e7d96f/manuais-PDF/guia-markdown.pdf)"
      ],
      "metadata": {
        "id": "XzAggDu6maEg"
      }
    },
    {
      "cell_type": "markdown",
      "source": [
        "## 3. Importar bibliotecas e instalar dependências<br>\n"
      ],
      "metadata": {
        "id": "OvrGYeuInC2-"
      }
    },
    {
      "cell_type": "markdown",
      "source": [
        " Colaboratory (Colab) é um ambiente baseado em nuvem que permite a execução de código Python diretamente no navegador. Às vezes, pode ser necessário instalar bibliotecas adicionais que não estão incluídas por padrão no ambiente Colab. Duas maneiras de fazer isso são:\n",
        "\n",
        " 1. `!pip install`\n",
        " 2. `!apt-get install`"
      ],
      "metadata": {
        "id": "zH0JR3qLyo-B"
      }
    },
    {
      "cell_type": "code",
      "source": [
        "!pip install matplotlib-venn"
      ],
      "metadata": {
        "id": "p1B9k4nfxBT5"
      },
      "execution_count": null,
      "outputs": []
    },
    {
      "cell_type": "code",
      "source": [
        "!apt-get -qq install -y libfluidsynth1"
      ],
      "metadata": {
        "id": "EbEI8tP1xDS_"
      },
      "execution_count": null,
      "outputs": []
    },
    {
      "cell_type": "markdown",
      "source": [
        "### 3.1 Install Pandas"
      ],
      "metadata": {
        "id": "qUktYcdsxaJj"
      }
    },
    {
      "cell_type": "code",
      "source": [
        "!pip install pandas\n",
        "\n",
        "import pandas as pd"
      ],
      "metadata": {
        "id": "JLi5vYFXxk35"
      },
      "execution_count": null,
      "outputs": []
    },
    {
      "cell_type": "markdown",
      "source": [
        "### 3.2 Install Streamlit"
      ],
      "metadata": {
        "id": "0dA9z9JiyKBI"
      }
    },
    {
      "cell_type": "code",
      "source": [
        "!pip install streamlit\n",
        "\n",
        "import streamlit as st"
      ],
      "metadata": {
        "id": "xmFqsDK8yO0t"
      },
      "execution_count": null,
      "outputs": []
    },
    {
      "cell_type": "markdown",
      "source": [
        "## 4. Salvar e carregar notebooks no GitHub <br>"
      ],
      "metadata": {
        "id": "ab7sJWmNyuLA"
      }
    },
    {
      "cell_type": "markdown",
      "source": [
        "Se você deseja salvar suas alterações de dentro do Colab, pode usar o menu Arquivo para salvar o notebook modificado no Google Drive ou de volta no GitHub. Escolha Arquivo → Salvar uma cópia no Drive ou Arquivo → Salvar uma cópia no GitHub e siga as instruções resultantes. Para salvar um notebook do Colab no GitHub, é necessário conceder permissão ao Colab para enviar o commit para seu repositório. <br>\n",
        "\n",
        "Segue o link para o meu repositório aonde que está salvo uma copia desse arquivo: [clique aqui](https://github.com/Moreira-98/Moreira-98/blob/main/Tarefa_01.ipynb)"
      ],
      "metadata": {
        "id": "rYwMgbIfzntz"
      }
    },
    {
      "cell_type": "markdown",
      "source": [
        "## 5. Formulários interativos"
      ],
      "metadata": {
        "id": "b5fcA21-0QMG"
      }
    },
    {
      "cell_type": "markdown",
      "source": [
        "Os Formulários (SForms) oferecem uma maneira fácil de parametrizar código. <br>\n",
        "\n",
        "__Como inserir um forms?__<br>\n",
        "A partir de uma célula de código, selecione Inserir → Adicionar campo de formulário. Quando você altera o valor em um formulário, o valor correspondente no código será alterado."
      ],
      "metadata": {
        "id": "YAPmO4sY0rGo"
      }
    },
    {
      "cell_type": "markdown",
      "source": [
        "### 5.1 Campos de String"
      ],
      "metadata": {
        "id": "KGpvvExo1F-f"
      }
    },
    {
      "cell_type": "code",
      "source": [
        "# @markdown ###Meu Primeiro Forms\n",
        "\n",
        "Nome = '' # @param {type:\"string\"}\n",
        "Escolha_um_clima = '.' # @param [\".\",\"Outono\", \"Verão\", \"Inverno\" , \"Primavera\"]\n",
        "sim_nao = '.' # @param [\"Sim\", \"Não\"] {allow-input: true}\n",
        "\n",
        "\n",
        "print(Nome)\n",
        "print(Escolha_um_clima)\n",
        "print(sim_nao)"
      ],
      "metadata": {
        "id": "4f5N11dt1NPN"
      },
      "execution_count": null,
      "outputs": []
    },
    {
      "cell_type": "markdown",
      "source": [
        "Nesse código temos 3 variáveis:\n",
        "\n",
        "1. __Nome__ = Ela está definida como padrão como \" \" (nada), mas é do tipo string (caractere) e receberá o valor que o usuário colocar.\n",
        "2. __Escolha_um_clima__ = Está também definida inicialmente como \" \" (nada), mas é uma lista de opções que oferece algumas alternativas, tais como Outono, Verão, Inverno e Primavera.\n",
        "3. __sim_não__ = Está também, assim como as outras, inicialmente definida como \" \" (nada). Trata-se de uma lista de opções, mas com uma diferença: ela possibilita ao usuário digitar uma das opções."
      ],
      "metadata": {
        "id": "k8_h29HH4Y0g"
      }
    },
    {
      "cell_type": "markdown",
      "source": [
        "### 5.2 Data Fields"
      ],
      "metadata": {
        "id": "TSyQCtEo56Tx"
      }
    },
    {
      "cell_type": "code",
      "source": [
        "# @markdown ###Que dia é hoje?\n",
        "\n",
        "Dia_de_hoje = '2024-02-28' # @param {type: \"date\"}\n",
        "\n",
        "\n",
        "print(f'Hoje é dia {Dia_de_hoje}')\n"
      ],
      "metadata": {
        "colab": {
          "base_uri": "https://localhost:8080/"
        },
        "id": "PfZzULUe6i0G",
        "outputId": "e11400ff-99b4-46cd-b2f1-72c62e2d159f"
      },
      "execution_count": null,
      "outputs": [
        {
          "output_type": "stream",
          "name": "stdout",
          "text": [
            "Hoje é dia 2024-02-28\n"
          ]
        }
      ]
    },
    {
      "cell_type": "markdown",
      "source": [
        "Nesse código é mais simples e contém apenas uma variavel do tipo `date` que serve para colocar data. Um ponto importante aqui é que esse tipo só aceita data no formato padrão internacional."
      ],
      "metadata": {
        "id": "H0Uw4bVs7hnz"
      }
    },
    {
      "cell_type": "markdown",
      "source": [
        "### 5.3 Números"
      ],
      "metadata": {
        "id": "ENOXB9xF8ttU"
      }
    },
    {
      "cell_type": "code",
      "source": [
        "n1 = 0 # @param {type:\"number\"}\n",
        "n2_slider = -0.6 # @param {type:\"slider\", min:-1, max:1, step:0.1}\n",
        "\n",
        "numero_inteiro = 0 # @param {type:\"integer\"}\n",
        "numero_int_slider = 13 # @param {type:\"slider\", min:0, max:100, step:1}\n",
        "\n",
        "print(n1)\n",
        "print(n2_slider)\n",
        "\n",
        "print(numero_inteiro)\n",
        "print(numero_int_slider)\n"
      ],
      "metadata": {
        "id": "GCodKWP084jO"
      },
      "execution_count": null,
      "outputs": []
    },
    {
      "cell_type": "markdown",
      "source": [
        "\n",
        "__Algumas observações:__<br>\n",
        "\n",
        "1. `n1 = 0 # @param {type:\"number\"}`: Isso cria um campo de entrada numérica chamado n1 com o valor padrão de 0. O # @param {type:\"number\"} indica que este é um parâmetro numérico.\n",
        "\n",
        "2. `n2_slider = -0.6 # @param {type:\"slider\", min:-1, max:1, step:0.1}`: Isso cria um controle deslizante numérico chamado n2_slider com um valor padrão de -0.6. O `# @param {type:\"slider\", min:-1, max:1, step:0.1}` indica que este é um parâmetro do tipo slider, com um valor mínimo de -1, máximo de 1 e passo de 0.1.\n",
        "\n",
        "3. `numero_inteiro = 10 # @param {type:\"integer\"}`: Isso cria um campo de entrada de número inteiro chamado numero_inteiro com o valor padrão de 10. O `# @param {type:\"integer\"}` indica que este é um parâmetro do tipo inteiro.\n",
        "\n",
        "4. `numero_int_slider = 1 # @param {type:\"slider\", min:0, max:100, step:1}`: Isso cria um controle deslizante inteiro chamado numero_int_slider com um valor padrão de 1. O `# @param {type:\"slider\", min:0, max:100, step:1}` indica que este é um parâmetro do tipo slider inteiro, com um valor mínimo de 0, máximo de 100 e passo de 1."
      ],
      "metadata": {
        "id": "_z6PhKyh9wpv"
      }
    },
    {
      "cell_type": "markdown",
      "source": [
        "### 5.4 Tratamento de campos booleanos"
      ],
      "metadata": {
        "id": "33HiOhQU_Z2r"
      }
    },
    {
      "cell_type": "code",
      "source": [
        "E_boolean = False # @param {type:\"boolean\"}\n",
        "sim_nao = False # @param [\"False\", \"True\"] {type:\"raw\"}\n",
        "\n",
        "print(E_boolean)\n",
        "print(sim_nao)\n"
      ],
      "metadata": {
        "id": "SWKDgsrv_ppA"
      },
      "execution_count": null,
      "outputs": []
    },
    {
      "cell_type": "markdown",
      "source": [
        "__Explicando:__ <br>\n",
        "\n",
        "Esta linha cria uma variável chamada E_boolean com um valor inicial de False. O comentário `# @param {type:\"boolean\"}` indica que essa variável é um campo de formulário booleano, que pode ser apresentado como uma caixa de seleção. <br>\n",
        "```\n",
        "E_boolean = False # @param {type:\"boolean\"}\n",
        "```\n",
        "<br>\n",
        "\n",
        "Aqui, uma variável chamada sim_nao é criada com um valor inicial de False. O comentário `# @param [\"False\", \"True\"] {type:\"raw\"}` indica que essa variável é um campo de formulário do tipo menu suspenso (dropdown), permitindo a escolha entre os valores \"False\" e \"True\".\n",
        "```\n",
        "sim_nao = False # @param [\"False\", \"True\"] {type:\"raw\"}\n",
        "```\n",
        "\n"
      ],
      "metadata": {
        "id": "vt9YgKbRADDz"
      }
    },
    {
      "cell_type": "markdown",
      "source": [
        "### 5.5 Clique em Mostrar código na célula de código."
      ],
      "metadata": {
        "id": "wWueG10OBlUY"
      }
    },
    {
      "cell_type": "code",
      "source": [
        "# @title Clique `aqui` para ver o código. { display-mode: \"form\" }\n",
        "\n",
        "opcao = 'A' # @param [\"A\", \"B\", \"C\"]\n",
        "print('Você selecionou a opção:', opcao)"
      ],
      "metadata": {
        "id": "rG9VGk-6B56l"
      },
      "execution_count": null,
      "outputs": []
    },
    {
      "cell_type": "markdown",
      "source": [
        "__Explicação:__ <br>\n",
        "\n",
        "1. `# @title`:\n",
        "  - É uma tag especial que é usada para dar um título visual a uma célula de código. Aqui está sendo usado para instruir o usuário a clicar em \"aqui\" para ver o código real.\n",
        "\n",
        "2. `{ display-mode: \"form\" }`:\n",
        "  - Indica que a célula de código tem um formulário incorporado e deve ser exibida como um formulário. Quando você clica em \"aqui\", verá o formulário.\n",
        "\n",
        "obs: pelos testes que fiz essa funcionalidade de esconder o código só funcionar quando o `@title` está sendo utilizado."
      ],
      "metadata": {
        "id": "is3t33ISCWL7"
      }
    },
    {
      "cell_type": "markdown",
      "source": [
        "### 5.6 Widgets Interativos do Jupyter"
      ],
      "metadata": {
        "id": "OPUeKtlKDMqX"
      }
    },
    {
      "cell_type": "markdown",
      "source": [
        "O Google Colab oferece suporte ao conjunto principal de Jupyter Widgets para fornecer interações entre Python e o navegador. A seguir veremos um exemplo:"
      ],
      "metadata": {
        "id": "ySRTRl36DdNQ"
      }
    },
    {
      "cell_type": "code",
      "source": [
        "import ipywidgets as widgets\n",
        "from IPython.display import display\n",
        "\n",
        "# Criação de um botão com a descrição \"Clique aqui!\"\n",
        "button = widgets.Button(description=\"Clique aqui!\")\n",
        "\n",
        "# Criação de uma área de saída para exibir o resultado\n",
        "output = widgets.Output()\n",
        "\n",
        "# Função chamada quando o botão é clicado\n",
        "def on_button_clicked(b):\n",
        "    with output:\n",
        "        print(\"Hello World\")\n",
        "\n",
        "# Associação da função ao evento de clique do botão\n",
        "button.on_click(on_button_clicked)\n",
        "\n",
        "# Exibição do botão e da área de saída\n",
        "display(button, output)\n"
      ],
      "metadata": {
        "id": "GaW9QJsYDkqJ"
      },
      "execution_count": null,
      "outputs": []
    },
    {
      "cell_type": "markdown",
      "source": [
        "__Explicação:__\n",
        "\n",
        "1. __Importação de Bibliotecas:__ <br>\n",
        "  - `ipywidgets:` É uma biblioteca que fornece widgets interativos para Jupyter Notebooks, incluindo botões.\n",
        "  - `from IPython.display import display`: Importa a função display da biblioteca `IPython.display`, que será usada para exibir os widgets.\n",
        "\n",
        "2. __Criação de Widgets:__<br>\n",
        "  - `widgets.Button(description=\"Clique aqui!\")`: Cria um botão com a descrição \"Clique aqui!\".\n",
        "  - `widgets.Output()`: Cria uma área de saída para exibir resultados.\n",
        "\n",
        "3. __Definição de Função:__<br>\n",
        "  - `def on_button_clicked(b)`: Define uma função chamada quando o botão é clicado.\n",
        "  - `with output`: Direciona a saída da função para a área de saída.\n",
        "  `print(\"Hello World\")`: Imprime \"Hello World\" na área de saída.\n",
        "\n",
        "4. __Associação de Evento:__<br>\n",
        "  - `button.on_click(on_button_clicked)`: Associa a função `on_button_clicked` ao evento de clique do botão.\n",
        "\n",
        "5. __Exibição de Widgets:__<br>\n",
        "  - `display(button, output)`: Exibe o botão e a área de saída."
      ],
      "metadata": {
        "id": "aWRU3H18D4hL"
      }
    },
    {
      "cell_type": "markdown",
      "source": [
        "### 5.7 Using Jupyter Widgets sliders"
      ],
      "metadata": {
        "id": "HW08HHvAFf5x"
      }
    },
    {
      "cell_type": "code",
      "source": [
        "import ipywidgets as widgets\n",
        "slider = widgets.IntSlider(value=0, max=1000)\n",
        "display(slider)"
      ],
      "metadata": {
        "colab": {
          "base_uri": "https://localhost:8080/",
          "height": 49,
          "referenced_widgets": [
            "d43b1b1d4dd34a1aa7c60ae49eea487e",
            "a68f7f44e8914c98a0c6aaefc8d8bb29",
            "1df1cec9a8c5446e868e710f61782128"
          ]
        },
        "id": "EV5X1AeWFrUh",
        "outputId": "c9dac28c-ef17-4be1-ff10-945e3a147211"
      },
      "execution_count": null,
      "outputs": [
        {
          "output_type": "display_data",
          "data": {
            "text/plain": [
              "IntSlider(value=0, max=1000)"
            ],
            "application/vnd.jupyter.widget-view+json": {
              "version_major": 2,
              "version_minor": 0,
              "model_id": "d43b1b1d4dd34a1aa7c60ae49eea487e"
            }
          },
          "metadata": {}
        }
      ]
    },
    {
      "cell_type": "code",
      "source": [
        "# Pega o valor que definimos na slide bar no código anterior\n",
        "slider.value"
      ],
      "metadata": {
        "colab": {
          "base_uri": "https://localhost:8080/"
        },
        "id": "jHCGw1IxFs_h",
        "outputId": "7e967a86-127e-4901-ef17-dda88d49e339"
      },
      "execution_count": null,
      "outputs": [
        {
          "output_type": "execute_result",
          "data": {
            "text/plain": [
              "1000"
            ]
          },
          "metadata": {},
          "execution_count": 43
        }
      ]
    },
    {
      "cell_type": "markdown",
      "source": [
        "### Projeto: Calculo de media aluno"
      ],
      "metadata": {
        "id": "hNGVHJ_SGw2w"
      }
    },
    {
      "cell_type": "code",
      "source": [
        "import ipywidgets as widgets\n",
        "from IPython.display import display\n",
        "\n",
        "media = int\n",
        "\n",
        "#@markdown ### Informações iniciais:\n",
        "nome_professor = \"\" #@param {type: \"string\"}\n",
        "nome_aluno = \"\" #@param {type: \"string\"}\n",
        "\n",
        "\n",
        "#@markdown ---\n",
        "\n",
        "#@markdown ### Cálculo da nota\n",
        "\n",
        "nota1 = 0 # @param {type:\"integer\"}\n",
        "nota2 = 0 # @param {type:\"integer\"}\n",
        "nota3 = 0 # @param {type:\"integer\"}\n",
        "nota4 = 0 # @param {type:\"integer\"}\n",
        "\n",
        "button = widgets.Button(description=\"Calcular media\")\n",
        "output = widgets.Output()\n",
        "\n",
        "media = (nota1 + nota2 + nota3 + nota4) / 4\n",
        "\n",
        "def on_button_clicked(b):\n",
        "  with output:\n",
        "\n",
        "    if media < 6:\n",
        "      print(\"-----------------------------------\")\n",
        "      print(f\"Aluno {nome_aluno}, foi REPROVADO\")\n",
        "      print(f\"Media final: {format(media, '.1f')}\")\n",
        "\n",
        "    elif media >= 6:\n",
        "      print(\"-----------------------------------\")\n",
        "      print(f\"Aluno {nome_aluno}, foi APROVADO\")\n",
        "      print(f\"Media final: {format(media, '.1f')}\")\n",
        "\n",
        "button.on_click(on_button_clicked)\n",
        "display(button, output)\n"
      ],
      "metadata": {
        "id": "sjsfB5cHHGFl"
      },
      "execution_count": null,
      "outputs": []
    }
  ]
}